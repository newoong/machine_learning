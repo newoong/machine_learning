{
 "cells": [
  {
   "cell_type": "code",
   "execution_count": 103,
   "id": "98411592",
   "metadata": {},
   "outputs": [],
   "source": [
    "import numpy as np\n",
    "arr1=np.random.randint(0,10,(10,2))\n",
    "arr2=np.random.randint(0,2,(10,1))\n",
    "norm=np.random.normal(0,1,(3,3)) #평균 0 분산 1\n",
    "arr3=np.arange(4,dtype=float)\n",
    "arr4=np.zeros((3,3))\n",
    "arr5=np.ones((3,3))\n",
    "a=np.arange(0,5)\n",
    "b=np.arange(5,10)\n",
    "c=np.concatenate([a,b])\n",
    "d=np.concatenate([arr1,arr2],axis=1)\n",
    "left,right=np.split(d,[2],axis=1)\n",
    "copy=up.copy()"
   ]
  },
  {
   "cell_type": "code",
   "execution_count": 106,
   "id": "7f6282fc",
   "metadata": {},
   "outputs": [
    {
     "name": "stdout",
     "output_type": "stream",
     "text": [
      "(10, 2)\n",
      "(10, 1)\n"
     ]
    },
    {
     "data": {
      "text/plain": [
       "array([[ 9,  4],\n",
       "       [ 1, 10],\n",
       "       [ 7,  3],\n",
       "       [ 4, 10],\n",
       "       [ 1,  4],\n",
       "       [ 1,  6],\n",
       "       [ 1,  9],\n",
       "       [ 1,  3],\n",
       "       [ 6,  0],\n",
       "       [ 0,  6]])"
      ]
     },
     "execution_count": 106,
     "metadata": {},
     "output_type": "execute_result"
    }
   ],
   "source": [
    "print(arr1.shape)\n",
    "print(arr2.shape)\n",
    "arr1+arr2\n",
    "#broadcast"
   ]
  },
  {
   "cell_type": "markdown",
   "id": "d824fef9",
   "metadata": {},
   "source": [
    "Masking"
   ]
  },
  {
   "cell_type": "code",
   "execution_count": 54,
   "id": "7f171a94",
   "metadata": {},
   "outputs": [
    {
     "name": "stdout",
     "output_type": "stream",
     "text": [
      "[[ True  True  True  True]\n",
      " [ True False False False]\n",
      " [False False False False]\n",
      " [False False False False]]\n",
      "[[100 100 100 100]\n",
      " [100   5   6   7]\n",
      " [  8   9  10  11]\n",
      " [ 12  13  14  15]]\n"
     ]
    }
   ],
   "source": [
    "array=np.arange(16).reshape(4,4)\n",
    "print(array<5)\n",
    "array[array<5]=100\n",
    "print(array)"
   ]
  },
  {
   "cell_type": "code",
   "execution_count": 72,
   "id": "51deeabe",
   "metadata": {
    "scrolled": false
   },
   "outputs": [
    {
     "name": "stdout",
     "output_type": "stream",
     "text": [
      "[[ 0  1  2  3]\n",
      " [ 4  5  6  7]\n",
      " [ 8  9 10 11]\n",
      " [12 13 14 15]]\n",
      "t max :  15\n",
      "t min :  0\n",
      "t sum :  120\n",
      "t mean :  7.5\n",
      "sumn of axis=1 :  [ 6 22 38 54]\n",
      "mean of axis=0 :  [6. 7. 8. 9.]\n"
     ]
    }
   ],
   "source": [
    "t=np.arange(16).reshape(4,4)\n",
    "print(t)\n",
    "print('t max : ',t.max())\n",
    "print('t min : ',t.min())\n",
    "print('t sum : ',t.sum())\n",
    "print('t mean : ',t.mean())\n",
    "print('sumn of axis=1 : ',t.sum(axis=1))\n",
    "print('mean of axis=0 : ',t.mean(axis=0))"
   ]
  },
  {
   "cell_type": "markdown",
   "id": "edf8fa9c",
   "metadata": {},
   "source": [
    "save numpy"
   ]
  },
  {
   "cell_type": "code",
   "execution_count": 71,
   "id": "d4c0c833",
   "metadata": {},
   "outputs": [
    {
     "name": "stdout",
     "output_type": "stream",
     "text": [
      "[0 1 2 3 4 5 6 7 8 9]\n",
      "[10 11 12 13 14 15 16 17 18 19]\n"
     ]
    }
   ],
   "source": [
    "n=np.arange(10)\n",
    "np.save('save.npy',n)\n",
    "load=np.load('save.npy')\n",
    "p=np.arange(10,20)\n",
    "np.savez('save.npz',arr1=n,arr2=p)\n",
    "n1=np.load('save.npz')['arr1']\n",
    "p1=np.load('save.npz')['arr2']\n",
    "print(n1)\n",
    "print(p1)"
   ]
  },
  {
   "cell_type": "markdown",
   "id": "280111e6",
   "metadata": {},
   "source": [
    "sort"
   ]
  },
  {
   "cell_type": "code",
   "execution_count": 99,
   "id": "2e224d47",
   "metadata": {},
   "outputs": [
    {
     "name": "stdout",
     "output_type": "stream",
     "text": [
      "[7 6 5 8 2 2 0 1 2 3]\n",
      "[0 1 2 2 2 3 5 6 7 8]\n",
      "[8 7 6 5 3 2 2 2 1 0]\n"
     ]
    }
   ],
   "source": [
    "s=np.random.randint(0,10,10)\n",
    "print(s)\n",
    "s.sort() #ascending-True\n",
    "print(s)\n",
    "print(s[::-1]) #ascending=False"
   ]
  },
  {
   "cell_type": "code",
   "execution_count": 128,
   "id": "52620a24",
   "metadata": {},
   "outputs": [
    {
     "name": "stdout",
     "output_type": "stream",
     "text": [
      "[[1 3 4 1 2]\n",
      " [5 4 5 3 2]]\n"
     ]
    }
   ],
   "source": [
    "m=np.array([[1,4,5,3,2],[5,3,4,1,2]])\n",
    "print(np.sort(m,axis=0)) #열 기준 정렬"
   ]
  },
  {
   "cell_type": "code",
   "execution_count": 120,
   "id": "19c5afa0",
   "metadata": {},
   "outputs": [
    {
     "name": "stdout",
     "output_type": "stream",
     "text": [
      "[ 0.   2.5  5.   7.5 10. ]\n"
     ]
    }
   ],
   "source": [
    "ar=np.linspace(0,10,5)\n",
    "print(ar)"
   ]
  },
  {
   "cell_type": "code",
   "execution_count": 126,
   "id": "3c4b1d25",
   "metadata": {},
   "outputs": [
    {
     "name": "stdout",
     "output_type": "stream",
     "text": [
      "[3 3 1 2 1]\n",
      "[1 2 3]\n",
      "{1, 2, 3}\n"
     ]
    }
   ],
   "source": [
    "dupl=np.random.randint(0,4,5)\n",
    "print(dupl)\n",
    "print(np.unique(dupl))\n",
    "print(set(dupl))"
   ]
  }
 ],
 "metadata": {
  "kernelspec": {
   "display_name": "Python 3 (ipykernel)",
   "language": "python",
   "name": "python3"
  },
  "language_info": {
   "codemirror_mode": {
    "name": "ipython",
    "version": 3
   },
   "file_extension": ".py",
   "mimetype": "text/x-python",
   "name": "python",
   "nbconvert_exporter": "python",
   "pygments_lexer": "ipython3",
   "version": "3.9.7"
  }
 },
 "nbformat": 4,
 "nbformat_minor": 5
}
